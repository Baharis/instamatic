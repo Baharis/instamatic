{
 "cells": [
  {
   "cell_type": "markdown",
   "metadata": {},
   "source": [
    "# Instamatic\n",
    "\n",
    "Instamatic is a tool for automated electron diffraction data collection. It has interfaces for interfacing with the TEM (JEOL/TFS) and several cameras (Gatan/ASI Timepix/TVIPS).\n",
    "\n",
    "https://github.com/stefsmeets/instamatic\n",
    "\n",
    "This notebook shows how to set up a grid montage\n",
    "\n",
    "First, we must import and initialize the controller object, which defines the interface to the TEM and the camera. For this example, the microscope interaction is simulated."
   ]
  },
  {
   "cell_type": "code",
   "execution_count": null,
   "metadata": {},
   "outputs": [],
   "source": [
    "from instamatic import TEMController\n",
    "from instamatic.formats import write_tiff\n",
    "\n",
    "ctrl = TEMController.initialize()"
   ]
  },
  {
   "cell_type": "markdown",
   "metadata": {},
   "source": [
    "Next, we will set the image conditions. We want to collect a montage over 5 by 5 points using the `lowmag` mode at a 100x magnification"
   ]
  },
  {
   "cell_type": "code",
   "execution_count": null,
   "metadata": {},
   "outputs": [],
   "source": [
    "ctrl.mode = \"lowmag\"\n",
    "ctrl.magnification.value = 100\n",
    "grid_x, grid_y = 3, 3"
   ]
  },
  {
   "cell_type": "markdown",
   "metadata": {},
   "source": [
    "## Setting up the grid montage\n",
    "\n",
    "The grid montage can be set up as follows:"
   ]
  },
  {
   "cell_type": "code",
   "execution_count": null,
   "metadata": {},
   "outputs": [],
   "source": [
    "from instamatic.montage import *\n",
    "\n",
    "gm = ctrl.grid_montage()\n",
    "pos = gm.setup(5, 5)\n",
    "\n",
    "gm.plot()"
   ]
  },
  {
   "cell_type": "markdown",
   "metadata": {},
   "source": [
    "Internally, the acquisition is done using the `ctrl.acquire_at_points` function. Acquisition is started using `gm.start`. Afterwards, the data are saved to a new experiment directory."
   ]
  },
  {
   "cell_type": "code",
   "execution_count": null,
   "metadata": {},
   "outputs": [],
   "source": [
    "gm.start()"
   ]
  },
  {
   "cell_type": "markdown",
   "metadata": {},
   "source": [
    "Finally, we use `gm.to_montage` to give us a `Montage` object, which can be used to stitch the images together."
   ]
  },
  {
   "cell_type": "code",
   "execution_count": null,
   "metadata": {},
   "outputs": [],
   "source": [
    "m = gm.to_montage()"
   ]
  },
  {
   "cell_type": "markdown",
   "metadata": {},
   "source": [
    "First, we can check what the data actually look like. To do so, we can simply stitch and plot the data using a binning=4 to conserve a bit of memory. This naively plots the data at the expected positions. Although this may not always give good results, it's enough to get a feeling for the data."
   ]
  },
  {
   "cell_type": "code",
   "execution_count": null,
   "metadata": {
    "scrolled": false
   },
   "outputs": [],
   "source": [
    "# calculate the montage coordinates\n",
    "m.calculate_montage_coords()\n",
    "\n",
    "# stitch image, use binning 4 for speed-up and memory conservation\n",
    "stitched = m.stitch(binning=4)\n",
    "\n",
    "# plot the stitched image\n",
    "m.plot()"
   ]
  },
  {
   "cell_type": "markdown",
   "metadata": {},
   "source": [
    "To get better stitching, we can do two things:\n",
    " 1. Better estimate the difference vectors between each tile using cross correlation\n",
    " 2. Optimize the coordinates of the difference vectors using least-squares minimization"
   ]
  },
  {
   "cell_type": "code",
   "execution_count": null,
   "metadata": {
    "scrolled": false
   },
   "outputs": [],
   "source": [
    "# Use cross correlation to get difference vectors\n",
    "m.calculate_difference_vectors(threshold='auto', verbose=False)\n",
    "\n",
    "# plot the fft_scores also showing the threshold used\n",
    "m.plot_fft_scores()\n",
    "\n",
    "# get coords optimized using cross correlation\n",
    "m.optimize_montage_coords()\n",
    "\n",
    "# stitch image, use binning 4 for speed-up and memory conservation\n",
    "m.stitch(binning=4)\n",
    "\n",
    "# plot the stitched image\n",
    "m.plot()"
   ]
  },
  {
   "cell_type": "code",
   "execution_count": null,
   "metadata": {},
   "outputs": [],
   "source": []
  }
 ],
 "metadata": {
  "kernelspec": {
   "display_name": "Python 3",
   "language": "python",
   "name": "python3"
  },
  "language_info": {
   "codemirror_mode": {
    "name": "ipython",
    "version": 3
   },
   "file_extension": ".py",
   "mimetype": "text/x-python",
   "name": "python",
   "nbconvert_exporter": "python",
   "pygments_lexer": "ipython3",
   "version": "3.7.3"
  }
 },
 "nbformat": 4,
 "nbformat_minor": 2
}

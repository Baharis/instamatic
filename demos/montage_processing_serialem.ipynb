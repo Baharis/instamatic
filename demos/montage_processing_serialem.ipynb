{
 "cells": [
  {
   "cell_type": "code",
   "execution_count": null,
   "metadata": {},
   "outputs": [],
   "source": [
    "%load_ext autoreload\n",
    "%autoreload 2"
   ]
  },
  {
   "cell_type": "markdown",
   "metadata": {},
   "source": [
    "# Instamatic\n",
    "\n",
    "Instamatic is a tool for automated electron diffraction data collection. It has interfaces for interfacing with the TEM (JEOL/TFS) and several cameras (Gatan/ASI Timepix/TVIPS).\n",
    "\n",
    "https://github.com/stefsmeets/instamatic\n",
    "\n",
    "This notebook shows how to process a grid montage using `instamatic`, pick holes, and set up an acquisition (`acquire_at_items`)."
   ]
  },
  {
   "cell_type": "code",
   "execution_count": null,
   "metadata": {},
   "outputs": [],
   "source": [
    "from instamatic.montage import *\n",
    "import numpy as np\n",
    "np.set_printoptions(suppress=True)"
   ]
  },
  {
   "cell_type": "markdown",
   "metadata": {},
   "source": [
    "## Setting up the montage\n",
    "\n",
    "Load the `gm.mrc` file and the associated images. For SerialEM data, the gridshape must be specified, because it cannot be obtained from the data or `.mdoc` direction."
   ]
  },
  {
   "cell_type": "code",
   "execution_count": null,
   "metadata": {},
   "outputs": [],
   "source": [
    "m = Montage.from_serialem_mrc('C:\\\\s\\\\2020-02-05\\\\lta_crystals\\\\gm.mrc', \n",
    "                              gridshape=(5,5))\n",
    "m.gridspec"
   ]
  },
  {
   "cell_type": "markdown",
   "metadata": {},
   "source": [
    "First, we can check what the data actually look like. To do so, we can simply `stitch` and `plot` the data using a `binning=4` to conserve a bit of memory. This naively plots the data at the expected positions. Although the stitching is not that great, it's enough to get a feeling for the data.\n",
    "\n",
    "Note that SerialEM includes the pixel coordinates in the `.mdoc` file, so it is not necessary to calculate these again. Instead, the `PieceCoordinates` are mapped to `m.coords`."
   ]
  },
  {
   "cell_type": "code",
   "execution_count": null,
   "metadata": {},
   "outputs": [],
   "source": [
    "# Use `optimized = False` to prevent using the aligned piece coordinates\n",
    "m.stitch(binning=4, optimized=False)\n",
    "m.plot()"
   ]
  },
  {
   "cell_type": "markdown",
   "metadata": {},
   "source": [
    "SerialEM has also already calculated the aligned image coordinates (`AlignedPieceCoordsVS`/`AlignedPieceCoords`). These can be accessed via the `.optimized_coords` attribute. To plot, you can do the following:"
   ]
  },
  {
   "cell_type": "code",
   "execution_count": null,
   "metadata": {},
   "outputs": [],
   "source": [
    "# optimized = True is the default, so it can be left out\n",
    "m.stitch(binning=4, optimized=True)\n",
    "m.plot()"
   ]
  },
  {
   "cell_type": "markdown",
   "metadata": {},
   "source": [
    "It is still possible to try to get better stitching using the algorithm in `instamatic`\n",
    " 1. Better estimate the difference vectors between each tile using cross correlation\n",
    " 2. Optimize the coordinates of the difference vectors using least-squares minimization"
   ]
  },
  {
   "cell_type": "code",
   "execution_count": null,
   "metadata": {},
   "outputs": [],
   "source": [
    "# Use cross correlation to get difference vectors\n",
    "m.calculate_difference_vectors(threshold='auto', \n",
    "                               verbose=False, \n",
    "                               segment=False,\n",
    "                               method='imreg', \n",
    "                               plot=False)\n",
    "\n",
    "# plot the fft_scores\n",
    "m.plot_fft_scores()\n",
    "\n",
    "# plot the pixel shifts\n",
    "m.plot_shifts()\n",
    "\n",
    "# get coords optimized using cross correlation\n",
    "m.optimize_montage_coords(plot=True)\n",
    "\n",
    "# stitch image, use binning 4 for speed-up and memory conservation\n",
    "m.stitch(binning=4)\n",
    "\n",
    "# plot the stitched image\n",
    "m.plot()"
   ]
  },
  {
   "cell_type": "markdown",
   "metadata": {},
   "source": [
    "When the image has been stitched (with or without optimization), we can look for the positions of the grid squares/squircles. To do so, call the method `.find_holes`. `Instamatic` does not know the imaging conditions, so we must first set the `.mode` attribute. It already knows the magnification and will then read out the stagematrix from the config files."
   ]
  },
  {
   "cell_type": "code",
   "execution_count": null,
   "metadata": {},
   "outputs": [],
   "source": [
    "m.mode = 'lowmag'\n",
    "\n",
    "m.set_calibration('lowmag', 100)\n",
    "\n",
    "stagecoords, imagecoords = m.find_holes(plot=True, diameter=45e3, tolerance=0.1)\n",
    "stagecoords = stagecoords.astype(int)"
   ]
  },
  {
   "cell_type": "markdown",
   "metadata": {},
   "source": [
    "It is possible to optimize the stage coordinates for more efficient navigation. In this example, the total stage movement can be reduced by about 75%, which will save a lot of time. The function uses the _two-opt_ algorithm for finding the shortest path: https://en.wikipedia.org/wiki/2-opt."
   ]
  },
  {
   "cell_type": "code",
   "execution_count": null,
   "metadata": {},
   "outputs": [],
   "source": [
    "from instamatic.navigation import sort_nav_items_by_shortest_path\n",
    "stagecoords = sort_nav_items_by_shortest_path(stagecoords, plot=True);"
   ]
  },
  {
   "cell_type": "markdown",
   "metadata": {},
   "source": [
    "The `stagecoords` can be used to set up an automated **acquire at items**. First, initialize the `ctrl` object from `instamatic`."
   ]
  },
  {
   "cell_type": "code",
   "execution_count": null,
   "metadata": {},
   "outputs": [],
   "source": [
    "from instamatic import TEMController\n",
    "ctrl = TEMController.initialize()"
   ]
  },
  {
   "cell_type": "markdown",
   "metadata": {},
   "source": [
    "Next, we should set up an acquisition function for each stage position. This should:\n",
    "\n",
    "1. Center the grid square by aligning it with a reference image\n",
    "2. Take an image at high mag\n",
    "3. Store the image and the corresponding stage position in a buffer\n",
    "\n",
    "To do so, we much first obtain a reference image from a grid square. The magnification should be so that the grid square fits in the view of the image. In this example, we use `300x` in `mag1`."
   ]
  },
  {
   "cell_type": "code",
   "execution_count": null,
   "metadata": {},
   "outputs": [],
   "source": [
    "# set microscope conditions\n",
    "ctrl.mode = 'lowmag'\n",
    "ctrl.magnification.value = 300\n",
    "binsize = 2\n",
    "\n",
    "# reference image of a centered grid square\n",
    "ref_img = ctrl.getRawImage()\n",
    "\n",
    "buffer = []\n",
    "stagepos = []\n",
    "\n",
    "\n",
    "def acquire_func(ctrl):\n",
    "    # Align to template\n",
    "    ctrl.align_to(ref_img, apply=True)\n",
    "    \n",
    "    # obtain image\n",
    "    img, h = ctrl.getImage(binsize=binsize)  \n",
    "    buffer.append(img)\n",
    "    \n",
    "    # store stage position and image somewhere\n",
    "    pos = ctrl.stage.get()\n",
    "    stagepos.append(pos)"
   ]
  },
  {
   "cell_type": "markdown",
   "metadata": {},
   "source": [
    "When the function is defined, we can pass it and the list of grid square stage coordinates to the function `ctrl.acquire_at_items`, which will automate the function at each stage position."
   ]
  },
  {
   "cell_type": "code",
   "execution_count": null,
   "metadata": {},
   "outputs": [],
   "source": [
    "sel = stagecoords[0:20]  # Acquire at the first 10 items\n",
    "ctrl.acquire_at_items(sel, acquire=acquire_func)"
   ]
  },
  {
   "cell_type": "markdown",
   "metadata": {},
   "source": [
    "Here is a minimal example of how the acquire functions can be changed to collect data can be saved to a `.nav` file which can be read by `SerialEM`. \n",
    "\n",
    "This makes use of the ability to pass a `post_acquire` function to `.acquire_at_items`. The post acquisition can be used to save the images as well as the required metadata to `SerialEM` format, making use of the `instamatic.serialem` module."
   ]
  },
  {
   "cell_type": "code",
   "execution_count": null,
   "metadata": {},
   "outputs": [],
   "source": [
    "import mrcfile\n",
    "from instamatic.serialem import MapItem, write_nav_file\n",
    "\n",
    "# reference image of a centered grid square\n",
    "ref_img = ctrl.getRawImage()\n",
    "\n",
    "# empty buffers\n",
    "buffer = []\n",
    "stagepos = []\n",
    "\n",
    "   \n",
    "def write_mrc_stack(fn:str, data: list, overwrite: bool=True, mmap:bool = True):\n",
    "    \"\"\"Write a stack of images to an mrc file.\"\"\"\n",
    "    if mmap:\n",
    "        shape = (len(buffer), *buffer[0].shape)\n",
    "        with mrcfile.new_mmap(fn, shape=shape, overwrite=True, mrc_mode=1) as f:\n",
    "            for i, im in enumerate(buffer):\n",
    "                f.data[i] = im\n",
    "    else:\n",
    "        data = np.array(data)\n",
    "        # mrc can only be saved as a 16-bit integer\n",
    "        data = data.astype(np.int16)\n",
    "        try:\n",
    "            f = mrcfile.new(fn, data=data, overwrite=overwrite)\n",
    "        except OSError:\n",
    "            f.close()\n",
    "    \n",
    "\n",
    "    def post_acquire(ctrl):\n",
    "    fn_nav = 'instamatic.nav'\n",
    "    fn_mrc = 'mmm.mrc'\n",
    "    \n",
    "    write_mrc_stack(fn_mrc, buffer)\n",
    "    \n",
    "    items = []\n",
    "    \n",
    "    magnification = ctrl.magnification.value\n",
    "    mode = ctrl.mode\n",
    "    mapscalemat = getattr(config.calibration, f'stagematrix_{mode}')[magnification]\n",
    "    mapscalemat = [item/binsize for item in mapscalemat]\n",
    "    \n",
    "    for i, image in enumerate(buffer):\n",
    "        x, y, z, _, _ = stagepos[i]\n",
    "        shape = image.shape\n",
    "        # binsize = ctrl.cam.getBinning()[0]\n",
    "\n",
    "        d = {}\n",
    "        d['StageXYZ'] = x / 1000, y / 1000, z / 1000\n",
    "        d['MapFile'] = fn_mrc\n",
    "        d['MapSection'] = i\n",
    "        d['MapBinning'] = binsize\n",
    "        d['MapMagInd'] = ctrl.magnification.absolute_index + 1  # SerialEM is 1-based\n",
    "        d['MapScaleMat'] = mapscalemat\n",
    "        d['MapWidthHeight'] = shape\n",
    "\n",
    "        map_item = MapItem.from_dict(d)\n",
    "        items.append(map_item)\n",
    "\n",
    "    write_nav_file(fn_nav, *items)\n",
    "    \n",
    "    print(f\"Data saved to `{fn_nav}` and `{fn_mrc}` ({len(buffer)} images)\")"
   ]
  },
  {
   "cell_type": "markdown",
   "metadata": {},
   "source": [
    "Next we call `ctrl.acquire_at_items` as before with the new `post_acquire` function."
   ]
  },
  {
   "cell_type": "code",
   "execution_count": null,
   "metadata": {},
   "outputs": [],
   "source": [
    "sel = stagecoords[0:20]  # Acquire at the first 10 items\n",
    "ctrl.acquire_at_items(sel, \n",
    "                      acquire=acquire_func, \n",
    "                      post_acquire=post_acquire)"
   ]
  },
  {
   "cell_type": "markdown",
   "metadata": {},
   "source": [
    "Now load up the `instamatic.nav` file in `SerialEM` to see the result!"
   ]
  },
  {
   "cell_type": "code",
   "execution_count": null,
   "metadata": {},
   "outputs": [],
   "source": []
  }
 ],
 "metadata": {
  "kernelspec": {
   "display_name": "Python 3",
   "language": "python",
   "name": "python3"
  },
  "language_info": {
   "codemirror_mode": {
    "name": "ipython",
    "version": 3
   },
   "file_extension": ".py",
   "mimetype": "text/x-python",
   "name": "python",
   "nbconvert_exporter": "python",
   "pygments_lexer": "ipython3",
   "version": "3.7.3"
  }
 },
 "nbformat": 4,
 "nbformat_minor": 2
}

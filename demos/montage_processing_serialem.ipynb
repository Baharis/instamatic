{
 "cells": [
  {
   "cell_type": "code",
   "execution_count": null,
   "metadata": {},
   "outputs": [],
   "source": [
    "%load_ext autoreload\n",
    "%autoreload 2"
   ]
  },
  {
   "cell_type": "markdown",
   "metadata": {},
   "source": [
    "# Instamatic\n",
    "\n",
    "Instamatic is a tool for automated electron diffraction data collection. It has interfaces for interfacing with the TEM (JEOL/TFS) and several cameras (Gatan/ASI Timepix/TVIPS).\n",
    "\n",
    "https://github.com/stefsmeets/instamatic\n",
    "\n",
    "This notebook shows how to process a grid montage using `instamatic`, pick holes, and set up an acquisition (`acquire_at_items`)."
   ]
  },
  {
   "cell_type": "code",
   "execution_count": null,
   "metadata": {},
   "outputs": [],
   "source": [
    "from instamatic.montage import *\n",
    "import numpy as np\n",
    "np.set_printoptions(suppress=True)"
   ]
  },
  {
   "cell_type": "markdown",
   "metadata": {},
   "source": [
    "## Setting up the montage\n",
    "\n",
    "Load the `gm.mrc` file and the associated images. For SerialEM data, the gridshape must be specified, because it cannot be obtained from the data or `.mdoc` direction."
   ]
  },
  {
   "cell_type": "code",
   "execution_count": null,
   "metadata": {},
   "outputs": [],
   "source": [
    "m = Montage.from_serialem_mrc('C:\\\\s\\\\2020-02-05\\\\lta_crystals\\\\gm.mrc', \n",
    "                              gridshape=(5,5))\n",
    "m.gridspec"
   ]
  },
  {
   "cell_type": "markdown",
   "metadata": {},
   "source": [
    "First, we can check what the data actually look like. To do so, we can simply `stitch` and `plot` the data using a `binning=4` to conserve a bit of memory. This naively plots the data at the expected positions. Although the stitching is not that great, it's enough to get a feeling for the data.\n",
    "\n",
    "Note that SerialEM includes the pixel coordinates in the `.mdoc` file, so it is not necessary to calculate these again. Instead, the `PieceCoordinates` are mapped to `m.coords`."
   ]
  },
  {
   "cell_type": "code",
   "execution_count": null,
   "metadata": {},
   "outputs": [],
   "source": [
    "# Use `optimized = False` to prevent using the aligned piece coordinates\n",
    "m.stitch(binning=4, optimized=False)\n",
    "m.plot()"
   ]
  },
  {
   "cell_type": "markdown",
   "metadata": {},
   "source": [
    "SerialEM has also already calculated the aligned image coordinates (`AlignedPieceCoordsVS`/`AlignedPieceCoords`). These can be accessed via the `.optimized_coords` attribute. To plot, you can do the following:"
   ]
  },
  {
   "cell_type": "code",
   "execution_count": null,
   "metadata": {},
   "outputs": [],
   "source": [
    "# optimized = True is the default, so it can be left out\n",
    "m.stitch(binning=4, optimized=True)\n",
    "m.plot()"
   ]
  },
  {
   "cell_type": "markdown",
   "metadata": {},
   "source": [
    "It is still possible to try to get better stitching using the algorithm in `instamatic`\n",
    " 1. Better estimate the difference vectors between each tile using cross correlation\n",
    " 2. Optimize the coordinates of the difference vectors using least-squares minimization"
   ]
  },
  {
   "cell_type": "code",
   "execution_count": null,
   "metadata": {},
   "outputs": [],
   "source": [
    "# Use cross correlation to get difference vectors\n",
    "m.calculate_difference_vectors(threshold='auto', \n",
    "                               verbose=False, \n",
    "                               segment=False,\n",
    "                               method='imreg', \n",
    "                               plot=False)\n",
    "\n",
    "# plot the fft_scores\n",
    "m.plot_fft_scores()\n",
    "\n",
    "# plot the pixel shifts\n",
    "m.plot_shifts()\n",
    "\n",
    "# get coords optimized using cross correlation\n",
    "m.optimize_montage_coords(plot=True)\n",
    "\n",
    "# stitch image, use binning 4 for speed-up and memory conservation\n",
    "m.stitch(binning=4)\n",
    "\n",
    "# plot the stitched image\n",
    "m.plot()"
   ]
  },
  {
   "cell_type": "markdown",
   "metadata": {},
   "source": [
    "When the image has been stitched (with or without optimization), we can look for the positions of the grid squares/squircles. To do so, call the method `.find_holes`. `Instamatic` does not know the imaging conditions, so we must first set the `.mode` attribute. It already knows the magnification and will then read out the stagematrix from the config files."
   ]
  },
  {
   "cell_type": "code",
   "execution_count": null,
   "metadata": {},
   "outputs": [],
   "source": [
    "m.mode = 'lowmag'\n",
    "\n",
    "m.set_calibration('lowmag', 100)\n",
    "\n",
    "stagecoords, imagecoords = m.find_holes(plot=True, diameter=45e3, tolerance=0.1)\n",
    "stagecoords = stagecoords.astype(int)"
   ]
  },
  {
   "cell_type": "markdown",
   "metadata": {},
   "source": [
    "It is possible to optimize the stage coordinates for more efficient navigation. In this example, the total stage movement can be reduced by about 75%, which will save a lot of time. The function uses the _two-opt_ algorithm for finding the shortest path: https://en.wikipedia.org/wiki/2-opt."
   ]
  },
  {
   "cell_type": "code",
   "execution_count": null,
   "metadata": {},
   "outputs": [],
   "source": [
    "from instamatic.navigation import sort_nav_items_by_shortest_path\n",
    "stagecoords = sort_nav_items_by_shortest_path(stagecoords, plot=True);"
   ]
  },
  {
   "cell_type": "markdown",
   "metadata": {},
   "source": [
    "The `stagecoords` can be used to set up an automated **acquire at items**. First, initialize the `ctrl` object from `instamatic`."
   ]
  },
  {
   "cell_type": "code",
   "execution_count": null,
   "metadata": {},
   "outputs": [],
   "source": [
    "from instamatic import TEMController\n",
    "ctrl = TEMController.initialize()"
   ]
  },
  {
   "cell_type": "markdown",
   "metadata": {},
   "source": [
    "Next, we should set up an acquisition function for each stage position. This should:\n",
    "\n",
    "1. Center the grid square by aligning it with a reference image\n",
    "2. Take an image at high mag\n",
    "3. Store the image and the corresponding stage position in a buffer\n",
    "\n",
    "To do so, we much first obtain a reference image from a grid square. The magnification should be so that the grid square fits in the view of the image. In this example, we use `300x` in `mag1`."
   ]
  },
  {
   "cell_type": "code",
   "execution_count": null,
   "metadata": {},
   "outputs": [],
   "source": [
    "# set microscope conditions\n",
    "ctrl.mode = 'mag1'\n",
    "ctrl.magnification.value = 300\n",
    "\n",
    "# reference image of a centered grid square\n",
    "ref_img = ctrl.getRawImage()\n",
    "\n",
    "buffer = []\n",
    "\n",
    "def acquire_func(ctrl):\n",
    "    # Align to template\n",
    "    ctrl.align_to(ref_img, apply=True)\n",
    "    \n",
    "    # obtain image\n",
    "    img = ctrl.getImage()\n",
    "    \n",
    "    # store stage position and image somewhere\n",
    "    pos = ctrl.stage.get()\n",
    "    buffer.append((pos, img))\n"
   ]
  },
  {
   "cell_type": "markdown",
   "metadata": {},
   "source": [
    "When the function is defined, we can pass it and the list of grid square stage coordinates to the function `ctrl.acquire_at_items`, which will automate the function at each stage position."
   ]
  },
  {
   "cell_type": "code",
   "execution_count": null,
   "metadata": {},
   "outputs": [],
   "source": [
    "sel = stagecoords[0:10]  # Acquire at the first 10 items\n",
    "ctrl.acquire_at_items(sel, acquire=acquire_func)"
   ]
  },
  {
   "cell_type": "code",
   "execution_count": null,
   "metadata": {},
   "outputs": [],
   "source": []
  }
 ],
 "metadata": {
  "kernelspec": {
   "display_name": "Python 3",
   "language": "python",
   "name": "python3"
  },
  "language_info": {
   "codemirror_mode": {
    "name": "ipython",
    "version": 3
   },
   "file_extension": ".py",
   "mimetype": "text/x-python",
   "name": "python",
   "nbconvert_exporter": "python",
   "pygments_lexer": "ipython3",
   "version": "3.7.3"
  }
 },
 "nbformat": 4,
 "nbformat_minor": 2
}
